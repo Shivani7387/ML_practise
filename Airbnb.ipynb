{
 "cells": [
  {
   "cell_type": "markdown",
   "id": "47b74fab",
   "metadata": {},
   "source": [
    "# Exploring & Machine Learning for Airbnb Listings in Toronto"
   ]
  },
  {
   "cell_type": "code",
   "execution_count": 7,
   "id": "e7fa2067",
   "metadata": {},
   "outputs": [],
   "source": [
    "import pandas as pd\n",
    "import numpy as np\n",
    "import matplotlib.pyplot as plt\n",
    "import seaborn as sns\n",
    "%matplotlib inline"
   ]
  },
  {
   "cell_type": "code",
   "execution_count": 8,
   "id": "607da295",
   "metadata": {},
   "outputs": [
    {
     "name": "stdout",
     "output_type": "stream",
     "text": [
      "We have 366 days and 19575 unique listings in the calendar data.\n"
     ]
    }
   ],
   "source": [
    "calendar = pd.read_csv('D:\\Study_material\\Data_Science\\capstone_project\\ML_practise\\data\\calendar.csv.gz')\n",
    "print('We have', calendar.date.nunique(), 'days and', calendar.listing_id.nunique(), 'unique listings in the calendar data.')"
   ]
  },
  {
   "cell_type": "code",
   "execution_count": 9,
   "id": "62e4c54b",
   "metadata": {},
   "outputs": [
    {
     "data": {
      "text/plain": [
       "('2020-08-18', '2021-08-18')"
      ]
     },
     "execution_count": 9,
     "metadata": {},
     "output_type": "execute_result"
    }
   ],
   "source": [
    "calendar.date.min(), calendar.date.max()"
   ]
  },
  {
   "cell_type": "code",
   "execution_count": 10,
   "id": "f8f7eab2",
   "metadata": {},
   "outputs": [
    {
     "data": {
      "text/plain": [
       "listing_id         0\n",
       "date               0\n",
       "available          0\n",
       "price              0\n",
       "adjusted_price     0\n",
       "minimum_nights    92\n",
       "maximum_nights    92\n",
       "dtype: int64"
      ]
     },
     "execution_count": 10,
     "metadata": {},
     "output_type": "execute_result"
    }
   ],
   "source": [
    "calendar.isnull().sum()"
   ]
  },
  {
   "cell_type": "code",
   "execution_count": 11,
   "id": "a983d93c",
   "metadata": {},
   "outputs": [
    {
     "data": {
      "text/plain": [
       "(7144972, 7)"
      ]
     },
     "execution_count": 11,
     "metadata": {},
     "output_type": "execute_result"
    }
   ],
   "source": [
    "calendar.shape"
   ]
  },
  {
   "cell_type": "code",
   "execution_count": 12,
   "id": "da9d3791",
   "metadata": {},
   "outputs": [
    {
     "data": {
      "text/html": [
       "<div>\n",
       "<style scoped>\n",
       "    .dataframe tbody tr th:only-of-type {\n",
       "        vertical-align: middle;\n",
       "    }\n",
       "\n",
       "    .dataframe tbody tr th {\n",
       "        vertical-align: top;\n",
       "    }\n",
       "\n",
       "    .dataframe thead th {\n",
       "        text-align: right;\n",
       "    }\n",
       "</style>\n",
       "<table border=\"1\" class=\"dataframe\">\n",
       "  <thead>\n",
       "    <tr style=\"text-align: right;\">\n",
       "      <th></th>\n",
       "      <th>listing_id</th>\n",
       "      <th>date</th>\n",
       "      <th>available</th>\n",
       "      <th>price</th>\n",
       "      <th>adjusted_price</th>\n",
       "      <th>minimum_nights</th>\n",
       "      <th>maximum_nights</th>\n",
       "    </tr>\n",
       "  </thead>\n",
       "  <tbody>\n",
       "    <tr>\n",
       "      <th>0</th>\n",
       "      <td>624190</td>\n",
       "      <td>2020-08-18</td>\n",
       "      <td>f</td>\n",
       "      <td>$450.00</td>\n",
       "      <td>$450.00</td>\n",
       "      <td>1.0</td>\n",
       "      <td>1125.0</td>\n",
       "    </tr>\n",
       "    <tr>\n",
       "      <th>1</th>\n",
       "      <td>304065</td>\n",
       "      <td>2020-08-19</td>\n",
       "      <td>f</td>\n",
       "      <td>$73.00</td>\n",
       "      <td>$73.00</td>\n",
       "      <td>2.0</td>\n",
       "      <td>1125.0</td>\n",
       "    </tr>\n",
       "    <tr>\n",
       "      <th>2</th>\n",
       "      <td>304065</td>\n",
       "      <td>2020-08-20</td>\n",
       "      <td>t</td>\n",
       "      <td>$73.00</td>\n",
       "      <td>$73.00</td>\n",
       "      <td>2.0</td>\n",
       "      <td>1125.0</td>\n",
       "    </tr>\n",
       "    <tr>\n",
       "      <th>3</th>\n",
       "      <td>304065</td>\n",
       "      <td>2020-08-21</td>\n",
       "      <td>t</td>\n",
       "      <td>$73.00</td>\n",
       "      <td>$73.00</td>\n",
       "      <td>2.0</td>\n",
       "      <td>1125.0</td>\n",
       "    </tr>\n",
       "    <tr>\n",
       "      <th>4</th>\n",
       "      <td>304065</td>\n",
       "      <td>2020-08-22</td>\n",
       "      <td>t</td>\n",
       "      <td>$73.00</td>\n",
       "      <td>$73.00</td>\n",
       "      <td>2.0</td>\n",
       "      <td>1125.0</td>\n",
       "    </tr>\n",
       "  </tbody>\n",
       "</table>\n",
       "</div>"
      ],
      "text/plain": [
       "   listing_id        date available    price adjusted_price  minimum_nights  \\\n",
       "0      624190  2020-08-18         f  $450.00        $450.00             1.0   \n",
       "1      304065  2020-08-19         f   $73.00         $73.00             2.0   \n",
       "2      304065  2020-08-20         t   $73.00         $73.00             2.0   \n",
       "3      304065  2020-08-21         t   $73.00         $73.00             2.0   \n",
       "4      304065  2020-08-22         t   $73.00         $73.00             2.0   \n",
       "\n",
       "   maximum_nights  \n",
       "0          1125.0  \n",
       "1          1125.0  \n",
       "2          1125.0  \n",
       "3          1125.0  \n",
       "4          1125.0  "
      ]
     },
     "execution_count": 12,
     "metadata": {},
     "output_type": "execute_result"
    }
   ],
   "source": [
    "calendar.head()"
   ]
  },
  {
   "cell_type": "code",
   "execution_count": 13,
   "id": "97e31229",
   "metadata": {},
   "outputs": [
    {
     "data": {
      "text/plain": [
       "f    4748244\n",
       "t    2396728\n",
       "Name: available, dtype: int64"
      ]
     },
     "execution_count": 13,
     "metadata": {},
     "output_type": "execute_result"
    }
   ],
   "source": [
    "calendar.available.value_counts()"
   ]
  },
  {
   "cell_type": "code",
   "execution_count": 14,
   "id": "56b38f07",
   "metadata": {},
   "outputs": [
    {
     "name": "stderr",
     "output_type": "stream",
     "text": [
      "<ipython-input-14-25c4afdfce4f>:2: SettingWithCopyWarning: \n",
      "A value is trying to be set on a copy of a slice from a DataFrame.\n",
      "Try using .loc[row_indexer,col_indexer] = value instead\n",
      "\n",
      "See the caveats in the documentation: https://pandas.pydata.org/pandas-docs/stable/user_guide/indexing.html#returning-a-view-versus-a-copy\n",
      "  calendar_new['busy'] = calendar_new.available.map( lambda x: 0 if x == 't' else 1)\n"
     ]
    }
   ],
   "source": [
    "calendar_new = calendar[['date', 'available']]\n",
    "calendar_new['busy'] = calendar_new.available.map( lambda x: 0 if x == 't' else 1)\n",
    "calendar_new = calendar_new.groupby('date')['busy'].mean().reset_index()\n",
    "calendar_new['date'] = pd.to_datetime(calendar_new['date'])"
   ]
  },
  {
   "cell_type": "code",
   "execution_count": 15,
   "id": "f85fa174",
   "metadata": {},
   "outputs": [
    {
     "data": {
      "image/png": "[encoded data removed]",
      "text/plain": [
       "<Figure size 720x360 with 1 Axes>"
      ]
     },
     "metadata": {
      "needs_background": "light"
     },
     "output_type": "display_data"
    }
   ],
   "source": [
    "plt.figure(figsize=(10, 5))\n",
    "plt.plot(calendar_new['date'], calendar_new['busy'])\n",
    "plt.title('Airbnb Toronto Calendar')\n",
    "plt.ylabel('% busy')\n",
    "plt.show();"
   ]
  },
  {
   "cell_type": "code",
   "execution_count": 16,
   "id": "ab3f39fa",
   "metadata": {},
   "outputs": [
    {
     "data": {
      "text/html": [
       "<div>\n",
       "<style scoped>\n",
       "    .dataframe tbody tr th:only-of-type {\n",
       "        vertical-align: middle;\n",
       "    }\n",
       "\n",
       "    .dataframe tbody tr th {\n",
       "        vertical-align: top;\n",
       "    }\n",
       "\n",
       "    .dataframe thead th {\n",
       "        text-align: right;\n",
       "    }\n",
       "</style>\n",
       "<table border=\"1\" class=\"dataframe\">\n",
       "  <thead>\n",
       "    <tr style=\"text-align: right;\">\n",
       "      <th></th>\n",
       "      <th>listing_id</th>\n",
       "      <th>date</th>\n",
       "      <th>available</th>\n",
       "      <th>price</th>\n",
       "      <th>adjusted_price</th>\n",
       "      <th>minimum_nights</th>\n",
       "      <th>maximum_nights</th>\n",
       "    </tr>\n",
       "  </thead>\n",
       "  <tbody>\n",
       "    <tr>\n",
       "      <th>0</th>\n",
       "      <td>624190</td>\n",
       "      <td>2020-08-18</td>\n",
       "      <td>f</td>\n",
       "      <td>$450.00</td>\n",
       "      <td>$450.00</td>\n",
       "      <td>1.0</td>\n",
       "      <td>1125.0</td>\n",
       "    </tr>\n",
       "    <tr>\n",
       "      <th>1</th>\n",
       "      <td>304065</td>\n",
       "      <td>2020-08-19</td>\n",
       "      <td>f</td>\n",
       "      <td>$73.00</td>\n",
       "      <td>$73.00</td>\n",
       "      <td>2.0</td>\n",
       "      <td>1125.0</td>\n",
       "    </tr>\n",
       "    <tr>\n",
       "      <th>2</th>\n",
       "      <td>304065</td>\n",
       "      <td>2020-08-20</td>\n",
       "      <td>t</td>\n",
       "      <td>$73.00</td>\n",
       "      <td>$73.00</td>\n",
       "      <td>2.0</td>\n",
       "      <td>1125.0</td>\n",
       "    </tr>\n",
       "    <tr>\n",
       "      <th>3</th>\n",
       "      <td>304065</td>\n",
       "      <td>2020-08-21</td>\n",
       "      <td>t</td>\n",
       "      <td>$73.00</td>\n",
       "      <td>$73.00</td>\n",
       "      <td>2.0</td>\n",
       "      <td>1125.0</td>\n",
       "    </tr>\n",
       "    <tr>\n",
       "      <th>4</th>\n",
       "      <td>304065</td>\n",
       "      <td>2020-08-22</td>\n",
       "      <td>t</td>\n",
       "      <td>$73.00</td>\n",
       "      <td>$73.00</td>\n",
       "      <td>2.0</td>\n",
       "      <td>1125.0</td>\n",
       "    </tr>\n",
       "  </tbody>\n",
       "</table>\n",
       "</div>"
      ],
      "text/plain": [
       "   listing_id        date available    price adjusted_price  minimum_nights  \\\n",
       "0      624190  2020-08-18         f  $450.00        $450.00             1.0   \n",
       "1      304065  2020-08-19         f   $73.00         $73.00             2.0   \n",
       "2      304065  2020-08-20         t   $73.00         $73.00             2.0   \n",
       "3      304065  2020-08-21         t   $73.00         $73.00             2.0   \n",
       "4      304065  2020-08-22         t   $73.00         $73.00             2.0   \n",
       "\n",
       "   maximum_nights  \n",
       "0          1125.0  \n",
       "1          1125.0  \n",
       "2          1125.0  \n",
       "3          1125.0  \n",
       "4          1125.0  "
      ]
     },
     "execution_count": 16,
     "metadata": {},
     "output_type": "execute_result"
    }
   ],
   "source": [
    "calendar.head()"
   ]
  },
  {
   "cell_type": "code",
   "execution_count": 18,
   "id": "54f7d7b8",
   "metadata": {},
   "outputs": [
    {
     "name": "stderr",
     "output_type": "stream",
     "text": [
      "<ipython-input-18-d29a079fb78b>:3: FutureWarning: The default value of regex will change from True to False in a future version. In addition, single character regular expressions will*not* be treated as literal strings when regex=True.\n",
      "  calendar['price'] = calendar['price'].str.replace('$', '')\n"
     ]
    },
    {
     "data": {
      "image/png": "[encoded data removed]",
      "text/plain": [
       "<Figure size 864x504 with 1 Axes>"
      ]
     },
     "metadata": {
      "needs_background": "light"
     },
     "output_type": "display_data"
    }
   ],
   "source": [
    "calendar['date'] = pd.to_datetime(calendar['date'])\n",
    "calendar['price'] = calendar['price'].str.replace(',', '')\n",
    "calendar['price'] = calendar['price'].str.replace('$', '')\n",
    "calendar['price'] = calendar['price'].astype(float)\n",
    "calendar['date'] = pd.to_datetime(calendar['date'])\n",
    "mean_of_month = calendar.groupby(calendar['date'].dt.strftime('%B'),\n",
    "                                 sort=False)['price'].mean()\n",
    "mean_of_month.plot(kind = 'barh' , figsize = (12,7))\n",
    "plt.xlabel('average monthly price');"
   ]
  },
  {
   "cell_type": "code",
   "execution_count": null,
   "id": "532ef1bf",
   "metadata": {},
   "outputs": [],
   "source": []
  },
  {
   "cell_type": "code",
   "execution_count": null,
   "id": "89428057",
   "metadata": {},
   "outputs": [],
   "source": []
  },
  {
   "cell_type": "code",
   "execution_count": null,
   "id": "cab47b22",
   "metadata": {},
   "outputs": [],
   "source": []
  }
 ],
 "metadata": {
  "kernelspec": {
   "display_name": "Python 3",
   "language": "python",
   "name": "python3"
  },
  "language_info": {
   "codemirror_mode": {
    "name": "ipython",
    "version": 3
   },
   "file_extension": ".py",
   "mimetype": "text/x-python",
   "name": "python",
   "nbconvert_exporter": "python",
   "pygments_lexer": "ipython3",
   "version": "3.8.8"
  }
 },
 "nbformat": 4,
 "nbformat_minor": 5
}
